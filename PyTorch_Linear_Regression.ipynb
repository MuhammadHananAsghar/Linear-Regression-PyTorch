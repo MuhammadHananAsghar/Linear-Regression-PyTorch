{
  "nbformat": 4,
  "nbformat_minor": 0,
  "metadata": {
    "colab": {
      "name": "PyTorch Linear Regression.ipynb",
      "provenance": [],
      "collapsed_sections": []
    },
    "kernelspec": {
      "name": "python3",
      "display_name": "Python 3"
    }
  },
  "cells": [
    {
      "cell_type": "markdown",
      "metadata": {
        "id": "_TPYtGRL4PwR"
      },
      "source": [
        "**Implemented By Muhammad Hanan Asghar**"
      ]
    },
    {
      "cell_type": "code",
      "metadata": {
        "id": "-jctu8Vykev1"
      },
      "source": [
        "import torch"
      ],
      "execution_count": 1,
      "outputs": []
    },
    {
      "cell_type": "code",
      "metadata": {
        "id": "YJ3ABtDskhpC"
      },
      "source": [
        "# Tensor\n",
        "t1 = torch.tensor(4.)"
      ],
      "execution_count": 5,
      "outputs": []
    },
    {
      "cell_type": "code",
      "metadata": {
        "colab": {
          "base_uri": "https://localhost:8080/"
        },
        "id": "6T3En9nXkkZl",
        "outputId": "0eb2c1dd-0857-4a25-f4fa-e04d4b581b7a"
      },
      "source": [
        "t1"
      ],
      "execution_count": 6,
      "outputs": [
        {
          "output_type": "execute_result",
          "data": {
            "text/plain": [
              "tensor(4.)"
            ]
          },
          "metadata": {
            "tags": []
          },
          "execution_count": 6
        }
      ]
    },
    {
      "cell_type": "code",
      "metadata": {
        "id": "ZpWeOITLkk0E"
      },
      "source": [
        "# More Complex\n",
        "t2 = torch.tensor([1., 2., 3., 4.])"
      ],
      "execution_count": 7,
      "outputs": []
    },
    {
      "cell_type": "code",
      "metadata": {
        "colab": {
          "base_uri": "https://localhost:8080/"
        },
        "id": "FlHrYxGSkul1",
        "outputId": "55eaba9d-3784-4210-bf56-31c2817e3678"
      },
      "source": [
        "t2"
      ],
      "execution_count": 8,
      "outputs": [
        {
          "output_type": "execute_result",
          "data": {
            "text/plain": [
              "tensor([1., 2., 3., 4.])"
            ]
          },
          "metadata": {
            "tags": []
          },
          "execution_count": 8
        }
      ]
    },
    {
      "cell_type": "code",
      "metadata": {
        "id": "VaPz48bkku6V"
      },
      "source": [
        "# Matrix\n",
        "t3 = torch.tensor([[1.,2.],\n",
        "                   [3.,4.],\n",
        "                   [5.,6.]])"
      ],
      "execution_count": 34,
      "outputs": []
    },
    {
      "cell_type": "code",
      "metadata": {
        "colab": {
          "base_uri": "https://localhost:8080/"
        },
        "id": "MYYrrENUk0_H",
        "outputId": "9bfde98b-47c6-4b91-f30e-31da3ec58ffe"
      },
      "source": [
        "t3"
      ],
      "execution_count": 35,
      "outputs": [
        {
          "output_type": "execute_result",
          "data": {
            "text/plain": [
              "tensor([[1., 2.],\n",
              "        [3., 4.],\n",
              "        [5., 6.]])"
            ]
          },
          "metadata": {
            "tags": []
          },
          "execution_count": 35
        }
      ]
    },
    {
      "cell_type": "code",
      "metadata": {
        "id": "mPEh1c_Vk1Wp"
      },
      "source": [
        "# 3-Dim Matrix\n",
        "t4 = torch.tensor([\n",
        "                   [[1,2,3],\n",
        "                    [4, 5, 6]],\n",
        "                   [[7, 8, 9],\n",
        "                    [10, 11, 12]]\n",
        "                  ])"
      ],
      "execution_count": 12,
      "outputs": []
    },
    {
      "cell_type": "code",
      "metadata": {
        "colab": {
          "base_uri": "https://localhost:8080/"
        },
        "id": "ZhfPRJi3lKeW",
        "outputId": "3f478053-6984-427d-a1e9-52a055a9dfc5"
      },
      "source": [
        "t4"
      ],
      "execution_count": 13,
      "outputs": [
        {
          "output_type": "execute_result",
          "data": {
            "text/plain": [
              "tensor([[[ 1,  2,  3],\n",
              "         [ 4,  5,  6]],\n",
              "\n",
              "        [[ 7,  8,  9],\n",
              "         [10, 11, 12]]])"
            ]
          },
          "metadata": {
            "tags": []
          },
          "execution_count": 13
        }
      ]
    },
    {
      "cell_type": "code",
      "metadata": {
        "colab": {
          "base_uri": "https://localhost:8080/"
        },
        "id": "AbRxVOPvlOWH",
        "outputId": "bdf3f987-f36a-4b2a-b415-c81c1c613f55"
      },
      "source": [
        "t4.shape"
      ],
      "execution_count": 14,
      "outputs": [
        {
          "output_type": "execute_result",
          "data": {
            "text/plain": [
              "torch.Size([2, 2, 3])"
            ]
          },
          "metadata": {
            "tags": []
          },
          "execution_count": 14
        }
      ]
    },
    {
      "cell_type": "code",
      "metadata": {
        "colab": {
          "base_uri": "https://localhost:8080/"
        },
        "id": "grnGldI6lQOF",
        "outputId": "7f946324-7050-453c-f7f9-4c8649429492"
      },
      "source": [
        "t3.shape"
      ],
      "execution_count": 15,
      "outputs": [
        {
          "output_type": "execute_result",
          "data": {
            "text/plain": [
              "torch.Size([3, 2])"
            ]
          },
          "metadata": {
            "tags": []
          },
          "execution_count": 15
        }
      ]
    },
    {
      "cell_type": "code",
      "metadata": {
        "colab": {
          "base_uri": "https://localhost:8080/"
        },
        "id": "kqB1murrlROl",
        "outputId": "73d6d99f-8466-4869-bf42-d84f25da9846"
      },
      "source": [
        "# Create tensors.\n",
        "x = torch.tensor(3.)\n",
        "w = torch.tensor(4., requires_grad=True)\n",
        "b = torch.tensor(5., requires_grad=True)\n",
        "x, w, b"
      ],
      "execution_count": 16,
      "outputs": [
        {
          "output_type": "execute_result",
          "data": {
            "text/plain": [
              "(tensor(3.), tensor(4., requires_grad=True), tensor(5., requires_grad=True))"
            ]
          },
          "metadata": {
            "tags": []
          },
          "execution_count": 16
        }
      ]
    },
    {
      "cell_type": "code",
      "metadata": {
        "colab": {
          "base_uri": "https://localhost:8080/"
        },
        "id": "FqyZSAL9l8tb",
        "outputId": "4f87cebd-11bb-4658-95b0-e9c1d8bc73c1"
      },
      "source": [
        "# Arithmetic operations\n",
        "y = w * x + b\n",
        "y"
      ],
      "execution_count": 17,
      "outputs": [
        {
          "output_type": "execute_result",
          "data": {
            "text/plain": [
              "tensor(17., grad_fn=<AddBackward0>)"
            ]
          },
          "metadata": {
            "tags": []
          },
          "execution_count": 17
        }
      ]
    },
    {
      "cell_type": "code",
      "metadata": {
        "id": "9XymLvG2mKlV"
      },
      "source": [
        "# Compute derivatives\n",
        "y.backward()"
      ],
      "execution_count": 18,
      "outputs": []
    },
    {
      "cell_type": "code",
      "metadata": {
        "colab": {
          "base_uri": "https://localhost:8080/"
        },
        "id": "Iq1BWtmgmP-h",
        "outputId": "19c66cb2-59a8-4350-f1fc-408dfe6ac042"
      },
      "source": [
        "y"
      ],
      "execution_count": 19,
      "outputs": [
        {
          "output_type": "execute_result",
          "data": {
            "text/plain": [
              "tensor(17., grad_fn=<AddBackward0>)"
            ]
          },
          "metadata": {
            "tags": []
          },
          "execution_count": 19
        }
      ]
    },
    {
      "cell_type": "code",
      "metadata": {
        "colab": {
          "base_uri": "https://localhost:8080/"
        },
        "id": "Lw1tLo-wmQ1S",
        "outputId": "b2a5b31f-c84d-4774-ec1a-2e42b97e9fe6"
      },
      "source": [
        "# Display gradients\n",
        "print('dy/dx:', x.grad)\n",
        "print('dy/dw:', w.grad)\n",
        "print('dy/db:', b.grad)"
      ],
      "execution_count": 20,
      "outputs": [
        {
          "output_type": "stream",
          "text": [
            "dy/dx: None\n",
            "dy/dw: tensor(3.)\n",
            "dy/db: tensor(1.)\n"
          ],
          "name": "stdout"
        }
      ]
    },
    {
      "cell_type": "code",
      "metadata": {
        "colab": {
          "base_uri": "https://localhost:8080/"
        },
        "id": "3CmudNwvmUg_",
        "outputId": "edaacb08-22c9-4a15-d90d-c6e0cc5b00ba"
      },
      "source": [
        "# Create a tensor with a fixed value for every element\n",
        "t6 = torch.full((3, 2), 42.)\n",
        "t6"
      ],
      "execution_count": 37,
      "outputs": [
        {
          "output_type": "execute_result",
          "data": {
            "text/plain": [
              "tensor([[42., 42.],\n",
              "        [42., 42.],\n",
              "        [42., 42.]])"
            ]
          },
          "metadata": {
            "tags": []
          },
          "execution_count": 37
        }
      ]
    },
    {
      "cell_type": "code",
      "metadata": {
        "id": "-_3cGAb4mdrc"
      },
      "source": [
        "t7 = torch.full((2, 2, 4), 99)"
      ],
      "execution_count": 28,
      "outputs": []
    },
    {
      "cell_type": "code",
      "metadata": {
        "colab": {
          "base_uri": "https://localhost:8080/"
        },
        "id": "WSu9-wPomjuC",
        "outputId": "e910ca29-20ae-486e-f99c-11cec2374d84"
      },
      "source": [
        "t7"
      ],
      "execution_count": 29,
      "outputs": [
        {
          "output_type": "execute_result",
          "data": {
            "text/plain": [
              "tensor([[[99, 99, 99, 99],\n",
              "         [99, 99, 99, 99]],\n",
              "\n",
              "        [[99, 99, 99, 99],\n",
              "         [99, 99, 99, 99]]])"
            ]
          },
          "metadata": {
            "tags": []
          },
          "execution_count": 29
        }
      ]
    },
    {
      "cell_type": "code",
      "metadata": {
        "colab": {
          "base_uri": "https://localhost:8080/"
        },
        "id": "yVtiDKOCmkMx",
        "outputId": "cc9e1430-a06e-4505-ebad-ab3d4346f058"
      },
      "source": [
        "# Concatenate two tensors with compatible shapes\n",
        "t3 = torch.FloatTensor(t3)\n",
        "t6 = torch.FloatTensor(t6)\n",
        "t8 = torch.cat((t3, t6))\n",
        "t8"
      ],
      "execution_count": 38,
      "outputs": [
        {
          "output_type": "execute_result",
          "data": {
            "text/plain": [
              "tensor([[ 1.,  2.],\n",
              "        [ 3.,  4.],\n",
              "        [ 5.,  6.],\n",
              "        [42., 42.],\n",
              "        [42., 42.],\n",
              "        [42., 42.]])"
            ]
          },
          "metadata": {
            "tags": []
          },
          "execution_count": 38
        }
      ]
    },
    {
      "cell_type": "code",
      "metadata": {
        "colab": {
          "base_uri": "https://localhost:8080/"
        },
        "id": "VvxOPwuGmv_h",
        "outputId": "272a78ca-1a76-42a1-a4f5-2297e3fb5312"
      },
      "source": [
        "t8"
      ],
      "execution_count": 39,
      "outputs": [
        {
          "output_type": "execute_result",
          "data": {
            "text/plain": [
              "tensor([[ 1.,  2.],\n",
              "        [ 3.,  4.],\n",
              "        [ 5.,  6.],\n",
              "        [42., 42.],\n",
              "        [42., 42.],\n",
              "        [42., 42.]])"
            ]
          },
          "metadata": {
            "tags": []
          },
          "execution_count": 39
        }
      ]
    },
    {
      "cell_type": "code",
      "metadata": {
        "colab": {
          "base_uri": "https://localhost:8080/"
        },
        "id": "xVuY_pMymxiC",
        "outputId": "12b7b876-ef04-4ef1-c332-5fa2f7e5dfa0"
      },
      "source": [
        "# Compute the sine of each element\n",
        "t9 = torch.sin(t8)\n",
        "t9"
      ],
      "execution_count": 40,
      "outputs": [
        {
          "output_type": "execute_result",
          "data": {
            "text/plain": [
              "tensor([[ 0.8415,  0.9093],\n",
              "        [ 0.1411, -0.7568],\n",
              "        [-0.9589, -0.2794],\n",
              "        [-0.9165, -0.9165],\n",
              "        [-0.9165, -0.9165],\n",
              "        [-0.9165, -0.9165]])"
            ]
          },
          "metadata": {
            "tags": []
          },
          "execution_count": 40
        }
      ]
    },
    {
      "cell_type": "code",
      "metadata": {
        "colab": {
          "base_uri": "https://localhost:8080/"
        },
        "id": "_AE7Ejbzm3Ka",
        "outputId": "0ab5da15-c22e-41f6-93b7-bedec4c3918a"
      },
      "source": [
        "# Change the shape of a tensor\n",
        "t10 = t9.reshape(3, 2, 2)\n",
        "t10"
      ],
      "execution_count": 41,
      "outputs": [
        {
          "output_type": "execute_result",
          "data": {
            "text/plain": [
              "tensor([[[ 0.8415,  0.9093],\n",
              "         [ 0.1411, -0.7568]],\n",
              "\n",
              "        [[-0.9589, -0.2794],\n",
              "         [-0.9165, -0.9165]],\n",
              "\n",
              "        [[-0.9165, -0.9165],\n",
              "         [-0.9165, -0.9165]]])"
            ]
          },
          "metadata": {
            "tags": []
          },
          "execution_count": 41
        }
      ]
    },
    {
      "cell_type": "code",
      "metadata": {
        "colab": {
          "base_uri": "https://localhost:8080/"
        },
        "id": "iPK_IMDMn50j",
        "outputId": "3edd491b-1285-44a5-bd35-a59217c53b57"
      },
      "source": [
        "# cos\n",
        "t11 = torch.cos(t8)\n",
        "t11"
      ],
      "execution_count": 44,
      "outputs": [
        {
          "output_type": "execute_result",
          "data": {
            "text/plain": [
              "tensor([[ 0.5403, -0.4161],\n",
              "        [-0.9900, -0.6536],\n",
              "        [ 0.2837,  0.9602],\n",
              "        [-0.4000, -0.4000],\n",
              "        [-0.4000, -0.4000],\n",
              "        [-0.4000, -0.4000]])"
            ]
          },
          "metadata": {
            "tags": []
          },
          "execution_count": 44
        }
      ]
    },
    {
      "cell_type": "code",
      "metadata": {
        "colab": {
          "base_uri": "https://localhost:8080/"
        },
        "id": "Fgt6r43Hn-qP",
        "outputId": "102cdb9b-a3de-4089-a272-e27888e0f747"
      },
      "source": [
        "# tan\n",
        "t12 = torch.tan(t8)\n",
        "t12"
      ],
      "execution_count": 45,
      "outputs": [
        {
          "output_type": "execute_result",
          "data": {
            "text/plain": [
              "tensor([[ 1.5574, -2.1850],\n",
              "        [-0.1425,  1.1578],\n",
              "        [-3.3805, -0.2910],\n",
              "        [ 2.2914,  2.2914],\n",
              "        [ 2.2914,  2.2914],\n",
              "        [ 2.2914,  2.2914]])"
            ]
          },
          "metadata": {
            "tags": []
          },
          "execution_count": 45
        }
      ]
    },
    {
      "cell_type": "code",
      "metadata": {
        "id": "Sxp_qfNsno9r"
      },
      "source": [
        "# (3, 2, 2) \n",
        "# means there is 3 elements in outer bracket\n",
        "# means there is 2 elements in 2nd bracket\n",
        "# means there is 2 elements in inner most bracket"
      ],
      "execution_count": 42,
      "outputs": []
    },
    {
      "cell_type": "code",
      "metadata": {
        "colab": {
          "base_uri": "https://localhost:8080/"
        },
        "id": "s24jAT2Qn1u9",
        "outputId": "d24a8b3d-bf67-4846-9e13-d8184eaae4e0"
      },
      "source": [
        "import numpy as np\n",
        "\n",
        "x = np.array([[1, 2], [3, 4.]])\n",
        "x"
      ],
      "execution_count": 43,
      "outputs": [
        {
          "output_type": "execute_result",
          "data": {
            "text/plain": [
              "array([[1., 2.],\n",
              "       [3., 4.]])"
            ]
          },
          "metadata": {
            "tags": []
          },
          "execution_count": 43
        }
      ]
    },
    {
      "cell_type": "code",
      "metadata": {
        "colab": {
          "base_uri": "https://localhost:8080/"
        },
        "id": "6w6A7f-bn4n7",
        "outputId": "192ab97d-6ca3-489a-f5b3-338f29f844ad"
      },
      "source": [
        "# Convert the numpy array to a torch tensor.\n",
        "y = torch.from_numpy(x)\n",
        "y"
      ],
      "execution_count": 46,
      "outputs": [
        {
          "output_type": "execute_result",
          "data": {
            "text/plain": [
              "tensor([[1., 2.],\n",
              "        [3., 4.]], dtype=torch.float64)"
            ]
          },
          "metadata": {
            "tags": []
          },
          "execution_count": 46
        }
      ]
    },
    {
      "cell_type": "code",
      "metadata": {
        "colab": {
          "base_uri": "https://localhost:8080/"
        },
        "id": "48nP59nQoow2",
        "outputId": "b4bd9c4f-6ae6-4369-c3ed-9a48869af723"
      },
      "source": [
        "x.dtype, y.dtype"
      ],
      "execution_count": 64,
      "outputs": [
        {
          "output_type": "execute_result",
          "data": {
            "text/plain": [
              "(dtype('float64'), torch.float64)"
            ]
          },
          "metadata": {
            "tags": []
          },
          "execution_count": 64
        }
      ]
    },
    {
      "cell_type": "code",
      "metadata": {
        "colab": {
          "base_uri": "https://localhost:8080/"
        },
        "id": "RnxrR0YgpCLt",
        "outputId": "b6e2b949-4d48-4dd4-fa44-e56bdd2fe740"
      },
      "source": [
        "# Convert a torch tensor to a numpy array\n",
        "z = y.numpy()\n",
        "z"
      ],
      "execution_count": 65,
      "outputs": [
        {
          "output_type": "execute_result",
          "data": {
            "text/plain": [
              "array([[1., 2.],\n",
              "       [3., 4.]])"
            ]
          },
          "metadata": {
            "tags": []
          },
          "execution_count": 65
        }
      ]
    },
    {
      "cell_type": "markdown",
      "metadata": {
        "id": "1eTn8qGBqw3q"
      },
      "source": [
        "#**Introduction to Linear Regression**"
      ]
    },
    {
      "cell_type": "markdown",
      "metadata": {
        "id": "ur89ro41rDrV"
      },
      "source": [
        "![6Ujttb4.png](data:image/png;base64,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)"
      ]
    },
    {
      "cell_type": "code",
      "metadata": {
        "id": "_i9cdvVCqr9P"
      },
      "source": [
        "# yield_apple  = w11 * temp + w12 * rainfall + w13 * humidity + b1\n",
        "# yield_orange = w21 * temp + w22 * rainfall + w23 * humidity + b2"
      ],
      "execution_count": 67,
      "outputs": []
    },
    {
      "cell_type": "code",
      "metadata": {
        "id": "sWGLu86zrJL9"
      },
      "source": [
        "import numpy as np\n",
        "import torch"
      ],
      "execution_count": 68,
      "outputs": []
    },
    {
      "cell_type": "markdown",
      "metadata": {
        "id": "g7gNcUnurM11"
      },
      "source": [
        "**Training Data**"
      ]
    },
    {
      "cell_type": "code",
      "metadata": {
        "id": "fe9pdEvYrMCM"
      },
      "source": [
        "inputs = np.array([[73, 67, 43],\n",
        "                   [91, 88, 64],\n",
        "                   [87, 134, 58],\n",
        "                   [102, 43, 37],\n",
        "                   [69, 96, 70]], dtype='float32')"
      ],
      "execution_count": 72,
      "outputs": []
    },
    {
      "cell_type": "code",
      "metadata": {
        "id": "ykqpAJJ3rpJa"
      },
      "source": [
        "targets = np.array([[56, 70],\n",
        "                    [81, 101],\n",
        "                    [119, 133],\n",
        "                    [22, 37],\n",
        "                    [103, 119]], dtype='float32')"
      ],
      "execution_count": 73,
      "outputs": []
    },
    {
      "cell_type": "code",
      "metadata": {
        "colab": {
          "base_uri": "https://localhost:8080/"
        },
        "id": "9myWSi-KryOu",
        "outputId": "26f44c26-fbb9-4ba1-ac39-1ee94356a90c"
      },
      "source": [
        "inputs.shape, targets.shape"
      ],
      "execution_count": 74,
      "outputs": [
        {
          "output_type": "execute_result",
          "data": {
            "text/plain": [
              "((5, 3), (5, 2))"
            ]
          },
          "metadata": {
            "tags": []
          },
          "execution_count": 74
        }
      ]
    },
    {
      "cell_type": "code",
      "metadata": {
        "id": "Wa3KBvrXr0kq"
      },
      "source": [
        "inputs = torch.from_numpy(inputs)\n",
        "targets = torch.from_numpy(targets)"
      ],
      "execution_count": 75,
      "outputs": []
    },
    {
      "cell_type": "code",
      "metadata": {
        "colab": {
          "base_uri": "https://localhost:8080/"
        },
        "id": "6V72s1MysAbn",
        "outputId": "a90530bc-acbb-43d4-fb22-bd6b5f74ad67"
      },
      "source": [
        "print(inputs)\n",
        "print(targets)"
      ],
      "execution_count": 76,
      "outputs": [
        {
          "output_type": "stream",
          "text": [
            "tensor([[ 73.,  67.,  43.],\n",
            "        [ 91.,  88.,  64.],\n",
            "        [ 87., 134.,  58.],\n",
            "        [102.,  43.,  37.],\n",
            "        [ 69.,  96.,  70.]])\n",
            "tensor([[ 56.,  70.],\n",
            "        [ 81., 101.],\n",
            "        [119., 133.],\n",
            "        [ 22.,  37.],\n",
            "        [103., 119.]])\n"
          ],
          "name": "stdout"
        }
      ]
    },
    {
      "cell_type": "markdown",
      "metadata": {
        "id": "6AZ9w75msGjP"
      },
      "source": [
        "#**Linear regression model from scratch**"
      ]
    },
    {
      "cell_type": "markdown",
      "metadata": {
        "id": "D8GAQpkgsIvn"
      },
      "source": [
        "The weights and biases (w11, w12,... w23, b1 & b2) can also be represented as matrices, initialized as random values. The first row of w and the first element of b are used to predict the first target variable, i.e., yield of apples, and similarly, the second for oranges."
      ]
    },
    {
      "cell_type": "markdown",
      "metadata": {
        "id": "HJcNVgYasO-M"
      },
      "source": [
        "![WGXLFvA.png](data:image/png;base64,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)"
      ]
    },
    {
      "cell_type": "code",
      "metadata": {
        "colab": {
          "base_uri": "https://localhost:8080/"
        },
        "id": "3XLKrPmCsD7H",
        "outputId": "2922cf87-6bc3-48af-f7e1-8a239ec3e514"
      },
      "source": [
        "# Weights and biases\n",
        "w = torch.randn(2, 3, requires_grad=True)\n",
        "b = torch.randn(2, requires_grad=True)\n",
        "print(w)\n",
        "print(b)"
      ],
      "execution_count": 82,
      "outputs": [
        {
          "output_type": "stream",
          "text": [
            "tensor([[-0.9941, -0.0884, -0.8128],\n",
            "        [ 0.3042, -2.1046, -1.1701]], requires_grad=True)\n",
            "tensor([ 1.0815, -0.5077], requires_grad=True)\n"
          ],
          "name": "stdout"
        }
      ]
    },
    {
      "cell_type": "code",
      "metadata": {
        "id": "5TqFFKYxtHTz"
      },
      "source": [
        "# ((5, 3), (5, 2)) our weights will be size of (y2, y1)"
      ],
      "execution_count": 85,
      "outputs": []
    },
    {
      "cell_type": "code",
      "metadata": {
        "id": "-YmILONhsiQn"
      },
      "source": [
        "def model(x):\n",
        "  return x @ w.t() + b"
      ],
      "execution_count": 78,
      "outputs": []
    },
    {
      "cell_type": "code",
      "metadata": {
        "id": "ZQAj1cd1s5jy"
      },
      "source": [
        "preds = model(inputs)"
      ],
      "execution_count": 83,
      "outputs": []
    },
    {
      "cell_type": "code",
      "metadata": {
        "colab": {
          "base_uri": "https://localhost:8080/"
        },
        "id": "ZOzDDOdFs7yw",
        "outputId": "839b0a9f-675d-499f-e50e-6aa15b6accbe"
      },
      "source": [
        "preds"
      ],
      "execution_count": 84,
      "outputs": [
        {
          "output_type": "execute_result",
          "data": {
            "text/plain": [
              "tensor([[-112.3591, -169.6223],\n",
              "        [-149.1773, -232.9151],\n",
              "        [-144.3891, -323.9240],\n",
              "        [-134.1906, -103.2683],\n",
              "        [-132.8906, -263.4655]], grad_fn=<AddBackward0>)"
            ]
          },
          "metadata": {
            "tags": []
          },
          "execution_count": 84
        }
      ]
    },
    {
      "cell_type": "code",
      "metadata": {
        "colab": {
          "base_uri": "https://localhost:8080/"
        },
        "id": "wcHd4XoJs8RA",
        "outputId": "389393d5-c033-493d-de0b-b4d95d2bd45f"
      },
      "source": [
        "targets"
      ],
      "execution_count": 81,
      "outputs": [
        {
          "output_type": "execute_result",
          "data": {
            "text/plain": [
              "tensor([[ 56.,  70.],\n",
              "        [ 81., 101.],\n",
              "        [119., 133.],\n",
              "        [ 22.,  37.],\n",
              "        [103., 119.]])"
            ]
          },
          "metadata": {
            "tags": []
          },
          "execution_count": 81
        }
      ]
    },
    {
      "cell_type": "code",
      "metadata": {
        "colab": {
          "base_uri": "https://localhost:8080/"
        },
        "id": "IEe9Y6WxtuxI",
        "outputId": "c960b741-071f-44f6-dc7a-3ac89d66a55a"
      },
      "source": [
        "len(targets)"
      ],
      "execution_count": 86,
      "outputs": [
        {
          "output_type": "execute_result",
          "data": {
            "text/plain": [
              "5"
            ]
          },
          "metadata": {
            "tags": []
          },
          "execution_count": 86
        }
      ]
    },
    {
      "cell_type": "markdown",
      "metadata": {
        "id": "vOUfet47tQlt"
      },
      "source": [
        "#**Loss function**"
      ]
    },
    {
      "cell_type": "markdown",
      "metadata": {
        "id": "NxQ6lzTHtdw2"
      },
      "source": [
        "The result is a single number, known as the mean squared error (MSE)."
      ]
    },
    {
      "cell_type": "code",
      "metadata": {
        "id": "DX8jGPiks9Se"
      },
      "source": [
        "def mse(t1, t2):\n",
        "  diff = t1 - t2\n",
        "  return torch.sum(diff * diff) / diff.numel()"
      ],
      "execution_count": 87,
      "outputs": []
    },
    {
      "cell_type": "code",
      "metadata": {
        "colab": {
          "base_uri": "https://localhost:8080/"
        },
        "id": "beWVTD76t4I2",
        "outputId": "8d7a182a-898c-44eb-fe81-a44e324ba7a4"
      },
      "source": [
        "# Compute loss\n",
        "loss = mse(preds, targets)\n",
        "print(loss)"
      ],
      "execution_count": 88,
      "outputs": [
        {
          "output_type": "stream",
          "text": [
            "tensor(77439.2812, grad_fn=<DivBackward0>)\n"
          ],
          "name": "stdout"
        }
      ]
    },
    {
      "cell_type": "markdown",
      "metadata": {
        "id": "jfVviseKuMK9"
      },
      "source": [
        "#**Compute gradients**"
      ]
    },
    {
      "cell_type": "code",
      "metadata": {
        "id": "pLajDEBWt7bF"
      },
      "source": [
        "# Compute gradients\n",
        "loss.backward()"
      ],
      "execution_count": 89,
      "outputs": []
    },
    {
      "cell_type": "code",
      "metadata": {
        "colab": {
          "base_uri": "https://localhost:8080/"
        },
        "id": "63gpptBEuPlD",
        "outputId": "776c03c9-abaa-4322-f779-3faaf8f9c175"
      },
      "source": [
        "# Gradients for weights\n",
        "print(w)\n",
        "print(w.grad)"
      ],
      "execution_count": 90,
      "outputs": [
        {
          "output_type": "stream",
          "text": [
            "tensor([[-0.9941, -0.0884, -0.8128],\n",
            "        [ 0.3042, -2.1046, -1.1701]], requires_grad=True)\n",
            "tensor([[-17671.8203, -19238.3008, -11907.7510],\n",
            "        [-25665.7148, -29883.0527, -18027.6855]])\n"
          ],
          "name": "stdout"
        }
      ]
    },
    {
      "cell_type": "markdown",
      "metadata": {
        "id": "G0pMqpQkuaCa"
      },
      "source": [
        "#**Adjust weights and biases to reduce the loss**"
      ]
    },
    {
      "cell_type": "markdown",
      "metadata": {
        "id": "OVwXv197vFI-"
      },
      "source": [
        "If a gradient element is positive:\n",
        "\n",
        "    increasing the weight element's value slightly will increase the loss\n",
        "    decreasing the weight element's value slightly will decrease the loss\n"
      ]
    },
    {
      "cell_type": "markdown",
      "metadata": {
        "id": "ZBDrwszQvIs8"
      },
      "source": [
        "If a gradient element is negative:\n",
        "\n",
        "    increasing the weight element's value slightly will decrease the loss\n",
        "    decreasing the weight element's value slightly will increase the loss\n"
      ]
    },
    {
      "cell_type": "code",
      "metadata": {
        "colab": {
          "base_uri": "https://localhost:8080/"
        },
        "id": "jqShHd65uRXT",
        "outputId": "747e0cc4-3455-4516-a585-3967f4ebbf10"
      },
      "source": [
        "w\n",
        "w.grad"
      ],
      "execution_count": 91,
      "outputs": [
        {
          "output_type": "execute_result",
          "data": {
            "text/plain": [
              "tensor([[-17671.8203, -19238.3008, -11907.7510],\n",
              "        [-25665.7148, -29883.0527, -18027.6855]])"
            ]
          },
          "metadata": {
            "tags": []
          },
          "execution_count": 91
        }
      ]
    },
    {
      "cell_type": "code",
      "metadata": {
        "id": "NOfqnEPcvMja"
      },
      "source": [
        "with torch.no_grad():\n",
        "    w -= w.grad * 1e-5\n",
        "    b -= b.grad * 1e-5"
      ],
      "execution_count": 92,
      "outputs": []
    },
    {
      "cell_type": "code",
      "metadata": {
        "colab": {
          "base_uri": "https://localhost:8080/"
        },
        "id": "RrhuqtCcvkTI",
        "outputId": "da2a87a6-336b-41a0-d0fd-8a0bc0aa2bcb"
      },
      "source": [
        "w"
      ],
      "execution_count": 93,
      "outputs": [
        {
          "output_type": "execute_result",
          "data": {
            "text/plain": [
              "tensor([[-0.8174,  0.1040, -0.6937],\n",
              "        [ 0.5609, -1.8058, -0.9898]], requires_grad=True)"
            ]
          },
          "metadata": {
            "tags": []
          },
          "execution_count": 93
        }
      ]
    },
    {
      "cell_type": "code",
      "metadata": {
        "id": "Sd3c4zn6vk0M"
      },
      "source": [
        "# grads means differentials"
      ],
      "execution_count": 94,
      "outputs": []
    },
    {
      "cell_type": "code",
      "metadata": {
        "id": "gz69e-uxxGs_"
      },
      "source": [
        "preds = model(inputs)"
      ],
      "execution_count": 95,
      "outputs": []
    },
    {
      "cell_type": "code",
      "metadata": {
        "id": "3iv7iaJvvvv1"
      },
      "source": [
        "loss = mse(preds, targets)"
      ],
      "execution_count": 96,
      "outputs": []
    },
    {
      "cell_type": "code",
      "metadata": {
        "colab": {
          "base_uri": "https://localhost:8080/"
        },
        "id": "bNUppYIexJGM",
        "outputId": "b76c7df0-d4b5-42a2-8d4e-0b77a7cb3123"
      },
      "source": [
        "loss"
      ],
      "execution_count": 97,
      "outputs": [
        {
          "output_type": "execute_result",
          "data": {
            "text/plain": [
              "tensor(52845.1484, grad_fn=<DivBackward0>)"
            ]
          },
          "metadata": {
            "tags": []
          },
          "execution_count": 97
        }
      ]
    },
    {
      "cell_type": "code",
      "metadata": {
        "colab": {
          "base_uri": "https://localhost:8080/"
        },
        "id": "2YJ7sx07xJa7",
        "outputId": "55ce3182-8475-42a5-81a3-049403076733"
      },
      "source": [
        "w.grad.zero_()\n",
        "b.grad.zero_()\n",
        "print(w.grad)\n",
        "print(b.grad)"
      ],
      "execution_count": 98,
      "outputs": [
        {
          "output_type": "stream",
          "text": [
            "tensor([[0., 0., 0.],\n",
            "        [0., 0., 0.]])\n",
            "tensor([0., 0.])\n"
          ],
          "name": "stdout"
        }
      ]
    },
    {
      "cell_type": "code",
      "metadata": {
        "id": "5B2-2FsDxYYM"
      },
      "source": [
        "# .zero_() used to resets gradients"
      ],
      "execution_count": 99,
      "outputs": []
    },
    {
      "cell_type": "code",
      "metadata": {
        "colab": {
          "base_uri": "https://localhost:8080/"
        },
        "id": "xr0V53q9yVA1",
        "outputId": "296f0ae6-1aec-4eb6-a2b1-ece9f827f8c7"
      },
      "source": [
        "preds = model(inputs)\n",
        "preds"
      ],
      "execution_count": 100,
      "outputs": [
        {
          "output_type": "execute_result",
          "data": {
            "text/plain": [
              "tensor([[ -81.4465, -123.1097],\n",
              "        [-108.5432, -171.7213],\n",
              "        [ -96.3267, -251.0924],\n",
              "        [-103.4849,  -57.5663],\n",
              "        [ -93.8908, -204.4459]], grad_fn=<AddBackward0>)"
            ]
          },
          "metadata": {
            "tags": []
          },
          "execution_count": 100
        }
      ]
    },
    {
      "cell_type": "code",
      "metadata": {
        "id": "CZH1KcuByYVk"
      },
      "source": [
        "loss = mse(preds, targets)"
      ],
      "execution_count": 101,
      "outputs": []
    },
    {
      "cell_type": "code",
      "metadata": {
        "colab": {
          "base_uri": "https://localhost:8080/"
        },
        "id": "0Qx7ZZoIyazD",
        "outputId": "5d3161e5-1407-4294-c561-834094c109ed"
      },
      "source": [
        "loss"
      ],
      "execution_count": 102,
      "outputs": [
        {
          "output_type": "execute_result",
          "data": {
            "text/plain": [
              "tensor(52845.1484, grad_fn=<DivBackward0>)"
            ]
          },
          "metadata": {
            "tags": []
          },
          "execution_count": 102
        }
      ]
    },
    {
      "cell_type": "code",
      "metadata": {
        "colab": {
          "base_uri": "https://localhost:8080/"
        },
        "id": "ihYSzX1RybXC",
        "outputId": "38ee1164-ab3a-4bde-92fb-0a0f113edade"
      },
      "source": [
        "loss.backward()\n",
        "w.grad\n",
        "b.grad"
      ],
      "execution_count": 103,
      "outputs": [
        {
          "output_type": "execute_result",
          "data": {
            "text/plain": [
              "tensor([-172.9384, -253.5871])"
            ]
          },
          "metadata": {
            "tags": []
          },
          "execution_count": 103
        }
      ]
    },
    {
      "cell_type": "code",
      "metadata": {
        "id": "Qyv2bf7OygQS"
      },
      "source": [
        "with torch.no_grad():\n",
        "  w -= w.grad * 1e-5\n",
        "  b -= b.grad * 1e-5\n",
        "  w.grad.zero_()\n",
        "  b.grad.zero_()"
      ],
      "execution_count": 104,
      "outputs": []
    },
    {
      "cell_type": "code",
      "metadata": {
        "id": "k0n1nFjJyoFC"
      },
      "source": [
        "# no_grad() means do not counter this calculation"
      ],
      "execution_count": 105,
      "outputs": []
    },
    {
      "cell_type": "code",
      "metadata": {
        "colab": {
          "base_uri": "https://localhost:8080/"
        },
        "id": "1_sDbmyByr2y",
        "outputId": "fed57194-6728-4220-8bb3-fb5d83b7615d"
      },
      "source": [
        "# Calculate loss\n",
        "preds = model(inputs)\n",
        "loss = mse(preds, targets)\n",
        "print(loss)"
      ],
      "execution_count": 106,
      "outputs": [
        {
          "output_type": "stream",
          "text": [
            "tensor(36263.4766, grad_fn=<DivBackward0>)\n"
          ],
          "name": "stdout"
        }
      ]
    },
    {
      "cell_type": "markdown",
      "metadata": {
        "id": "PFwsLddFywas"
      },
      "source": [
        "**Train for multiple epochs**"
      ]
    },
    {
      "cell_type": "code",
      "metadata": {
        "id": "Stdio9dHyuD5"
      },
      "source": [
        "for _ in range(10000):\n",
        "  preds = model(inputs)\n",
        "  loss = mse(preds, targets)\n",
        "  loss.backward()\n",
        "  with torch.no_grad():\n",
        "    w -= w.grad * 1e-6\n",
        "    b -= b.grad * 1e-6\n",
        "    w.grad.zero_()\n",
        "    b.grad.zero_()"
      ],
      "execution_count": 122,
      "outputs": []
    },
    {
      "cell_type": "code",
      "metadata": {
        "colab": {
          "base_uri": "https://localhost:8080/"
        },
        "id": "gZRrKCZfzIxc",
        "outputId": "2e09795b-03ef-49ba-a517-2e05607a34b5"
      },
      "source": [
        "# Calculate loss\n",
        "preds = model(inputs)\n",
        "loss = mse(preds, targets)\n",
        "print(loss)"
      ],
      "execution_count": 123,
      "outputs": [
        {
          "output_type": "stream",
          "text": [
            "tensor(0.5258, grad_fn=<DivBackward0>)\n"
          ],
          "name": "stdout"
        }
      ]
    },
    {
      "cell_type": "code",
      "metadata": {
        "id": "U6LsfzEezKa9"
      },
      "source": [
        "# Predictions\n",
        "preds = preds.int()"
      ],
      "execution_count": 124,
      "outputs": []
    },
    {
      "cell_type": "code",
      "metadata": {
        "colab": {
          "base_uri": "https://localhost:8080/"
        },
        "id": "ekYOzz_4zi_U",
        "outputId": "59ccc638-9156-4461-d3ca-25ac33093f0a"
      },
      "source": [
        "preds"
      ],
      "execution_count": 125,
      "outputs": [
        {
          "output_type": "execute_result",
          "data": {
            "text/plain": [
              "tensor([[ 57,  70],\n",
              "        [ 82, 100],\n",
              "        [118, 132],\n",
              "        [ 21,  37],\n",
              "        [101, 119]], dtype=torch.int32)"
            ]
          },
          "metadata": {
            "tags": []
          },
          "execution_count": 125
        }
      ]
    },
    {
      "cell_type": "code",
      "metadata": {
        "colab": {
          "base_uri": "https://localhost:8080/"
        },
        "id": "HxeKgHLPzSHt",
        "outputId": "b78a080f-039a-47f5-eff8-9bf5506db010"
      },
      "source": [
        "targets"
      ],
      "execution_count": 126,
      "outputs": [
        {
          "output_type": "execute_result",
          "data": {
            "text/plain": [
              "tensor([[ 56.,  70.],\n",
              "        [ 81., 101.],\n",
              "        [119., 133.],\n",
              "        [ 22.,  37.],\n",
              "        [103., 119.]])"
            ]
          },
          "metadata": {
            "tags": []
          },
          "execution_count": 126
        }
      ]
    },
    {
      "cell_type": "markdown",
      "metadata": {
        "id": "zwzf3QIBzxc-"
      },
      "source": [
        "#**Linear regression using PyTorch built-ins**"
      ]
    },
    {
      "cell_type": "code",
      "metadata": {
        "id": "YqsO6DJpzSwO"
      },
      "source": [
        "import torch.nn as nn"
      ],
      "execution_count": 127,
      "outputs": []
    },
    {
      "cell_type": "code",
      "metadata": {
        "id": "3uWljg00z0DJ"
      },
      "source": [
        "# Input (temp, rainfall, humidity)\n",
        "inputs = np.array([[73, 67, 43], \n",
        "                   [91, 88, 64], \n",
        "                   [87, 134, 58], \n",
        "                   [102, 43, 37], \n",
        "                   [69, 96, 70], \n",
        "                   [74, 66, 43], \n",
        "                   [91, 87, 65], \n",
        "                   [88, 134, 59], \n",
        "                   [101, 44, 37], \n",
        "                   [68, 96, 71], \n",
        "                   [73, 66, 44], \n",
        "                   [92, 87, 64], \n",
        "                   [87, 135, 57], \n",
        "                   [103, 43, 36], \n",
        "                   [68, 97, 70]], \n",
        "                  dtype='float32')\n",
        "\n",
        "# Targets (apples, oranges)\n",
        "targets = np.array([[56, 70], \n",
        "                    [81, 101], \n",
        "                    [119, 133], \n",
        "                    [22, 37], \n",
        "                    [103, 119],\n",
        "                    [57, 69], \n",
        "                    [80, 102], \n",
        "                    [118, 132], \n",
        "                    [21, 38], \n",
        "                    [104, 118], \n",
        "                    [57, 69], \n",
        "                    [82, 100], \n",
        "                    [118, 134], \n",
        "                    [20, 38], \n",
        "                    [102, 120]], \n",
        "                   dtype='float32')\n",
        "\n",
        "inputs = torch.from_numpy(inputs)\n",
        "targets = torch.from_numpy(targets)"
      ],
      "execution_count": 128,
      "outputs": []
    },
    {
      "cell_type": "code",
      "metadata": {
        "colab": {
          "base_uri": "https://localhost:8080/"
        },
        "id": "3-LC6xv1z3Lp",
        "outputId": "3f0f4835-70f3-4d9b-91b5-f7c660b8feb3"
      },
      "source": [
        "inputs"
      ],
      "execution_count": 129,
      "outputs": [
        {
          "output_type": "execute_result",
          "data": {
            "text/plain": [
              "tensor([[ 73.,  67.,  43.],\n",
              "        [ 91.,  88.,  64.],\n",
              "        [ 87., 134.,  58.],\n",
              "        [102.,  43.,  37.],\n",
              "        [ 69.,  96.,  70.],\n",
              "        [ 74.,  66.,  43.],\n",
              "        [ 91.,  87.,  65.],\n",
              "        [ 88., 134.,  59.],\n",
              "        [101.,  44.,  37.],\n",
              "        [ 68.,  96.,  71.],\n",
              "        [ 73.,  66.,  44.],\n",
              "        [ 92.,  87.,  64.],\n",
              "        [ 87., 135.,  57.],\n",
              "        [103.,  43.,  36.],\n",
              "        [ 68.,  97.,  70.]])"
            ]
          },
          "metadata": {
            "tags": []
          },
          "execution_count": 129
        }
      ]
    },
    {
      "cell_type": "markdown",
      "metadata": {
        "id": "AW4d5sO0z8Uf"
      },
      "source": [
        "#**Dataset and DataLoader**"
      ]
    },
    {
      "cell_type": "code",
      "metadata": {
        "id": "AqIFnUUUz5LI"
      },
      "source": [
        "from torch.utils.data import TensorDataset # it is used for making chunks of dataset"
      ],
      "execution_count": 130,
      "outputs": []
    },
    {
      "cell_type": "code",
      "metadata": {
        "id": "99gWE4mF0De4"
      },
      "source": [
        "# Define dataset seperating into datasets"
      ],
      "execution_count": 131,
      "outputs": []
    },
    {
      "cell_type": "code",
      "metadata": {
        "id": "GWGgD5OB0IH5"
      },
      "source": [
        "train_ds = TensorDataset(inputs, targets)"
      ],
      "execution_count": 133,
      "outputs": []
    },
    {
      "cell_type": "code",
      "metadata": {
        "colab": {
          "base_uri": "https://localhost:8080/"
        },
        "id": "Kcp2vXYr0LEH",
        "outputId": "f5772924-c923-44b4-de5e-b72c1580cd08"
      },
      "source": [
        "train_ds[0]"
      ],
      "execution_count": 135,
      "outputs": [
        {
          "output_type": "execute_result",
          "data": {
            "text/plain": [
              "(tensor([73., 67., 43.]), tensor([56., 70.]))"
            ]
          },
          "metadata": {
            "tags": []
          },
          "execution_count": 135
        }
      ]
    },
    {
      "cell_type": "code",
      "metadata": {
        "id": "PneWGF990NuI"
      },
      "source": [
        "from torch.utils.data import DataLoader # it splits our dataset into train and test chunks"
      ],
      "execution_count": 137,
      "outputs": []
    },
    {
      "cell_type": "code",
      "metadata": {
        "id": "ACqmKsUA0VRL"
      },
      "source": [
        "# Define data loader\n",
        "batch_size = 5\n",
        "train_dl = DataLoader(train_ds, batch_size, shuffle=True)\n",
        "# it makes a chunsk of 5, 5 elements"
      ],
      "execution_count": 140,
      "outputs": []
    },
    {
      "cell_type": "code",
      "metadata": {
        "colab": {
          "base_uri": "https://localhost:8080/"
        },
        "id": "al_5gaL30ia8",
        "outputId": "f7f67240-60b4-45a6-dfd2-f28a7ecc29c0"
      },
      "source": [
        "for xb, yb in train_dl:\n",
        "    print(xb)\n",
        "    print(yb)\n",
        "    break"
      ],
      "execution_count": 141,
      "outputs": [
        {
          "output_type": "stream",
          "text": [
            "tensor([[ 73.,  67.,  43.],\n",
            "        [102.,  43.,  37.],\n",
            "        [ 74.,  66.,  43.],\n",
            "        [ 87., 135.,  57.],\n",
            "        [ 88., 134.,  59.]])\n",
            "tensor([[ 56.,  70.],\n",
            "        [ 22.,  37.],\n",
            "        [ 57.,  69.],\n",
            "        [118., 134.],\n",
            "        [118., 132.]])\n"
          ],
          "name": "stdout"
        }
      ]
    },
    {
      "cell_type": "markdown",
      "metadata": {
        "id": "G3q6as070trQ"
      },
      "source": [
        "#**nn.Linear**"
      ]
    },
    {
      "cell_type": "markdown",
      "metadata": {
        "id": "0O9C8JfL1DIc"
      },
      "source": [
        "Instead of initializing the weights & biases manually, we can define the model using the nn.Linear class from PyTorch, which does it automatically."
      ]
    },
    {
      "cell_type": "code",
      "metadata": {
        "colab": {
          "base_uri": "https://localhost:8080/"
        },
        "id": "qvH889i30rAu",
        "outputId": "ddc6440b-35c2-44b6-fc61-2477c8bdc95e"
      },
      "source": [
        "# Define model\n",
        "model = nn.Linear(3, 2)\n",
        "print(model.weight)\n",
        "print(model.bias)"
      ],
      "execution_count": 142,
      "outputs": [
        {
          "output_type": "stream",
          "text": [
            "Parameter containing:\n",
            "tensor([[-0.4710, -0.5605, -0.2012],\n",
            "        [-0.2594,  0.3433,  0.0946]], requires_grad=True)\n",
            "Parameter containing:\n",
            "tensor([ 0.1983, -0.2733], requires_grad=True)\n"
          ],
          "name": "stdout"
        }
      ]
    },
    {
      "cell_type": "code",
      "metadata": {
        "colab": {
          "base_uri": "https://localhost:8080/"
        },
        "id": "exMzzqHp0yLO",
        "outputId": "e1a9e02d-8f90-4b50-94bd-c4414b8b8997"
      },
      "source": [
        "list(model.parameters())\n",
        "# list containing weights and bias"
      ],
      "execution_count": 144,
      "outputs": [
        {
          "output_type": "execute_result",
          "data": {
            "text/plain": [
              "[Parameter containing:\n",
              " tensor([[-0.4710, -0.5605, -0.2012],\n",
              "         [-0.2594,  0.3433,  0.0946]], requires_grad=True),\n",
              " Parameter containing:\n",
              " tensor([ 0.1983, -0.2733], requires_grad=True)]"
            ]
          },
          "metadata": {
            "tags": []
          },
          "execution_count": 144
        }
      ]
    },
    {
      "cell_type": "code",
      "metadata": {
        "colab": {
          "base_uri": "https://localhost:8080/"
        },
        "id": "cg-vZ2FI1Fv1",
        "outputId": "913d0bd4-08ed-41cd-fa8d-b5bef6ca1c1b"
      },
      "source": [
        "# Generate predictions\n",
        "preds = model(inputs)\n",
        "preds"
      ],
      "execution_count": 145,
      "outputs": [
        {
          "output_type": "execute_result",
          "data": {
            "text/plain": [
              "tensor([[ -80.3905,    7.8595],\n",
              "        [-104.8646,   12.3863],\n",
              "        [-127.5542,   28.6497],\n",
              "        [ -79.3918,   -8.4713],\n",
              "        [-100.1932,   21.4078],\n",
              "        [ -80.3011,    7.2567],\n",
              "        [-104.5054,   12.1375],\n",
              "        [-128.2265,   28.4849],\n",
              "        [ -79.4812,   -7.8686],\n",
              "        [ -99.9234,   21.7618],\n",
              "        [ -80.0313,    7.6107],\n",
              "        [-104.7752,   11.7835],\n",
              "        [-127.9135,   28.8985],\n",
              "        [ -79.6616,   -8.8253],\n",
              "        [-100.2826,   22.0106]], grad_fn=<AddmmBackward>)"
            ]
          },
          "metadata": {
            "tags": []
          },
          "execution_count": 145
        }
      ]
    },
    {
      "cell_type": "code",
      "metadata": {
        "id": "AGWBelR-2w8O"
      },
      "source": [
        "# Define optimizer\n",
        "opt = torch.optim.SGD(model.parameters(), lr=1e-5)"
      ],
      "execution_count": 151,
      "outputs": []
    },
    {
      "cell_type": "code",
      "metadata": {
        "id": "RsoNB4EJ2x3z"
      },
      "source": [
        "# opt line do to change the weights and bias of our model\n",
        "# as we doing manually in top"
      ],
      "execution_count": 152,
      "outputs": []
    },
    {
      "cell_type": "code",
      "metadata": {
        "id": "vzhZQbQm1Ohp"
      },
      "source": [
        "# Import nn.functional\n",
        "import torch.nn.functional as F"
      ],
      "execution_count": 146,
      "outputs": []
    },
    {
      "cell_type": "code",
      "metadata": {
        "id": "Ezs_ELhn1R3a"
      },
      "source": [
        "loss_fn = F.mse_loss"
      ],
      "execution_count": 147,
      "outputs": []
    },
    {
      "cell_type": "code",
      "metadata": {
        "id": "sxsVz3Z01W73"
      },
      "source": [
        "loss = loss_fn(model(inputs), targets)"
      ],
      "execution_count": 148,
      "outputs": []
    },
    {
      "cell_type": "code",
      "metadata": {
        "colab": {
          "base_uri": "https://localhost:8080/"
        },
        "id": "gA45iGZP1cPY",
        "outputId": "8a8d61c3-9aa3-4e73-eb79-addc36afba78"
      },
      "source": [
        "loss"
      ],
      "execution_count": 149,
      "outputs": [
        {
          "output_type": "execute_result",
          "data": {
            "text/plain": [
              "tensor(19941.6309, grad_fn=<MseLossBackward>)"
            ]
          },
          "metadata": {
            "tags": []
          },
          "execution_count": 149
        }
      ]
    },
    {
      "cell_type": "markdown",
      "metadata": {
        "id": "rglVUSxp1oF2"
      },
      "source": [
        "**Train the model**"
      ]
    },
    {
      "cell_type": "code",
      "metadata": {
        "id": "cWA5-BVm1dMH"
      },
      "source": [
        "def fit(num_epochs, model, loss_fn, opt, train_dl):\n",
        "\n",
        "  # Repeat for given no of epochs\n",
        "  for epoch in range(num_epochs):\n",
        "    for x, y in train_dl:\n",
        "      # Predict Values\n",
        "      pred = model(x)\n",
        "      # Calculate Loss\n",
        "      loss = loss_fn(pred, y)\n",
        "      # Compute Gradients\n",
        "      loss.backward()\n",
        "      # Update paraments using gradients\n",
        "      opt.step()\n",
        "      # Reset the gradients to zero\n",
        "      opt.zero_grad()\n",
        "    if (epoch+1) % 20 == 0:\n",
        "      print('Epoch [{}/{}], Loss: {:.4f}'.format(epoch+1, num_epochs, loss.item()))\n",
        "    if loss.item() < 0.4:\n",
        "      break"
      ],
      "execution_count": 169,
      "outputs": []
    },
    {
      "cell_type": "code",
      "metadata": {
        "colab": {
          "base_uri": "https://localhost:8080/"
        },
        "id": "vo43H6d72lpR",
        "outputId": "03446607-84da-4f9c-8bba-25146f718d37"
      },
      "source": [
        "fit(10000, model, loss_fn, opt, train_dl)"
      ],
      "execution_count": 170,
      "outputs": [
        {
          "output_type": "stream",
          "text": [
            "Epoch [20/10000], Loss: 1.4041\n",
            "Epoch [40/10000], Loss: 1.0534\n",
            "Epoch [60/10000], Loss: 1.1807\n",
            "Epoch [80/10000], Loss: 1.0405\n",
            "Epoch [100/10000], Loss: 0.8928\n",
            "Epoch [120/10000], Loss: 1.4204\n",
            "Epoch [140/10000], Loss: 1.3807\n",
            "Epoch [160/10000], Loss: 0.8279\n",
            "Epoch [180/10000], Loss: 1.1836\n",
            "Epoch [200/10000], Loss: 0.8012\n",
            "Epoch [220/10000], Loss: 1.4660\n",
            "Epoch [240/10000], Loss: 0.7874\n",
            "Epoch [260/10000], Loss: 0.9907\n",
            "Epoch [280/10000], Loss: 0.8042\n",
            "Epoch [300/10000], Loss: 1.4500\n",
            "Epoch [320/10000], Loss: 1.1505\n",
            "Epoch [340/10000], Loss: 1.1820\n",
            "Epoch [360/10000], Loss: 1.1065\n",
            "Epoch [380/10000], Loss: 1.0298\n",
            "Epoch [400/10000], Loss: 0.7765\n",
            "Epoch [420/10000], Loss: 0.8441\n",
            "Epoch [440/10000], Loss: 1.2270\n",
            "Epoch [460/10000], Loss: 0.9329\n",
            "Epoch [480/10000], Loss: 1.0759\n",
            "Epoch [500/10000], Loss: 1.0595\n",
            "Epoch [520/10000], Loss: 1.4012\n",
            "Epoch [540/10000], Loss: 0.9232\n",
            "Epoch [560/10000], Loss: 1.2324\n",
            "Epoch [580/10000], Loss: 1.4931\n",
            "Epoch [600/10000], Loss: 0.9479\n",
            "Epoch [620/10000], Loss: 1.2116\n",
            "Epoch [640/10000], Loss: 1.4763\n",
            "Epoch [660/10000], Loss: 0.9758\n",
            "Epoch [680/10000], Loss: 1.3796\n",
            "Epoch [700/10000], Loss: 0.7009\n",
            "Epoch [720/10000], Loss: 0.7292\n",
            "Epoch [740/10000], Loss: 0.8552\n",
            "Epoch [760/10000], Loss: 1.2761\n",
            "Epoch [780/10000], Loss: 0.8801\n",
            "Epoch [800/10000], Loss: 0.9449\n",
            "Epoch [820/10000], Loss: 0.8424\n",
            "Epoch [840/10000], Loss: 1.0121\n",
            "Epoch [860/10000], Loss: 0.9508\n",
            "Epoch [880/10000], Loss: 0.8851\n",
            "Epoch [900/10000], Loss: 0.7861\n",
            "Epoch [920/10000], Loss: 0.9945\n",
            "Epoch [940/10000], Loss: 0.8926\n",
            "Epoch [960/10000], Loss: 0.8438\n",
            "Epoch [980/10000], Loss: 0.9349\n",
            "Epoch [1000/10000], Loss: 0.7894\n",
            "Epoch [1020/10000], Loss: 1.1619\n",
            "Epoch [1040/10000], Loss: 0.9435\n",
            "Epoch [1060/10000], Loss: 1.0351\n",
            "Epoch [1080/10000], Loss: 1.2832\n",
            "Epoch [1100/10000], Loss: 1.3912\n",
            "Epoch [1120/10000], Loss: 1.1043\n",
            "Epoch [1140/10000], Loss: 0.8808\n",
            "Epoch [1160/10000], Loss: 0.9101\n",
            "Epoch [1180/10000], Loss: 1.3710\n",
            "Epoch [1200/10000], Loss: 1.0085\n",
            "Epoch [1220/10000], Loss: 0.7255\n",
            "Epoch [1240/10000], Loss: 0.9597\n",
            "Epoch [1260/10000], Loss: 0.7025\n",
            "Epoch [1280/10000], Loss: 0.6850\n",
            "Epoch [1300/10000], Loss: 0.9812\n",
            "Epoch [1320/10000], Loss: 1.0400\n",
            "Epoch [1340/10000], Loss: 1.3020\n",
            "Epoch [1360/10000], Loss: 1.2252\n",
            "Epoch [1380/10000], Loss: 1.1315\n",
            "Epoch [1400/10000], Loss: 1.3356\n",
            "Epoch [1420/10000], Loss: 1.3209\n",
            "Epoch [1440/10000], Loss: 1.0992\n",
            "Epoch [1460/10000], Loss: 0.9498\n",
            "Epoch [1480/10000], Loss: 1.3128\n",
            "Epoch [1500/10000], Loss: 0.9733\n",
            "Epoch [1520/10000], Loss: 0.9316\n",
            "Epoch [1540/10000], Loss: 0.8938\n",
            "Epoch [1560/10000], Loss: 1.2089\n",
            "Epoch [1580/10000], Loss: 0.9223\n",
            "Epoch [1600/10000], Loss: 0.9717\n",
            "Epoch [1620/10000], Loss: 0.8020\n",
            "Epoch [1640/10000], Loss: 0.8266\n",
            "Epoch [1660/10000], Loss: 0.7369\n",
            "Epoch [1680/10000], Loss: 1.1948\n",
            "Epoch [1700/10000], Loss: 1.2859\n",
            "Epoch [1720/10000], Loss: 0.7856\n",
            "Epoch [1740/10000], Loss: 0.8547\n",
            "Epoch [1760/10000], Loss: 1.1156\n",
            "Epoch [1780/10000], Loss: 1.3440\n",
            "Epoch [1800/10000], Loss: 1.0221\n",
            "Epoch [1820/10000], Loss: 0.8129\n",
            "Epoch [1840/10000], Loss: 1.3789\n",
            "Epoch [1860/10000], Loss: 1.3629\n",
            "Epoch [1880/10000], Loss: 0.8505\n",
            "Epoch [1900/10000], Loss: 1.1116\n",
            "Epoch [1920/10000], Loss: 1.2324\n",
            "Epoch [1940/10000], Loss: 1.2251\n",
            "Epoch [1960/10000], Loss: 0.9274\n",
            "Epoch [1980/10000], Loss: 1.1824\n",
            "Epoch [2000/10000], Loss: 1.4175\n",
            "Epoch [2020/10000], Loss: 1.2004\n",
            "Epoch [2040/10000], Loss: 1.0425\n",
            "Epoch [2060/10000], Loss: 0.7712\n",
            "Epoch [2080/10000], Loss: 1.2114\n",
            "Epoch [2100/10000], Loss: 1.0036\n",
            "Epoch [2120/10000], Loss: 0.9701\n",
            "Epoch [2140/10000], Loss: 0.8261\n",
            "Epoch [2160/10000], Loss: 1.0817\n",
            "Epoch [2180/10000], Loss: 1.3271\n",
            "Epoch [2200/10000], Loss: 1.2954\n",
            "Epoch [2220/10000], Loss: 1.0763\n",
            "Epoch [2240/10000], Loss: 0.9661\n",
            "Epoch [2260/10000], Loss: 1.5693\n",
            "Epoch [2280/10000], Loss: 0.8688\n",
            "Epoch [2300/10000], Loss: 1.0736\n",
            "Epoch [2320/10000], Loss: 0.8042\n",
            "Epoch [2340/10000], Loss: 1.0349\n",
            "Epoch [2360/10000], Loss: 0.9265\n",
            "Epoch [2380/10000], Loss: 0.8294\n",
            "Epoch [2400/10000], Loss: 1.3707\n",
            "Epoch [2420/10000], Loss: 0.8013\n",
            "Epoch [2440/10000], Loss: 1.0963\n",
            "Epoch [2460/10000], Loss: 1.1121\n",
            "Epoch [2480/10000], Loss: 0.6679\n",
            "Epoch [2500/10000], Loss: 1.2937\n",
            "Epoch [2520/10000], Loss: 1.1924\n",
            "Epoch [2540/10000], Loss: 0.8809\n",
            "Epoch [2560/10000], Loss: 1.0041\n",
            "Epoch [2580/10000], Loss: 1.3010\n",
            "Epoch [2600/10000], Loss: 1.1118\n",
            "Epoch [2620/10000], Loss: 0.8296\n",
            "Epoch [2640/10000], Loss: 1.1480\n",
            "Epoch [2660/10000], Loss: 1.1157\n",
            "Epoch [2680/10000], Loss: 1.3089\n",
            "Epoch [2700/10000], Loss: 1.2893\n",
            "Epoch [2720/10000], Loss: 0.7687\n",
            "Epoch [2740/10000], Loss: 1.3667\n",
            "Epoch [2760/10000], Loss: 0.9368\n",
            "Epoch [2780/10000], Loss: 1.0432\n",
            "Epoch [2800/10000], Loss: 1.1459\n",
            "Epoch [2820/10000], Loss: 1.5482\n",
            "Epoch [2840/10000], Loss: 0.9331\n",
            "Epoch [2860/10000], Loss: 0.6995\n",
            "Epoch [2880/10000], Loss: 1.2048\n",
            "Epoch [2900/10000], Loss: 1.0082\n",
            "Epoch [2920/10000], Loss: 0.8959\n",
            "Epoch [2940/10000], Loss: 1.4371\n",
            "Epoch [2960/10000], Loss: 0.9683\n",
            "Epoch [2980/10000], Loss: 0.8621\n",
            "Epoch [3000/10000], Loss: 1.2149\n",
            "Epoch [3020/10000], Loss: 1.4411\n",
            "Epoch [3040/10000], Loss: 1.3272\n",
            "Epoch [3060/10000], Loss: 1.2727\n",
            "Epoch [3080/10000], Loss: 0.9853\n",
            "Epoch [3100/10000], Loss: 1.4689\n",
            "Epoch [3120/10000], Loss: 0.8860\n",
            "Epoch [3140/10000], Loss: 0.8766\n",
            "Epoch [3160/10000], Loss: 1.0749\n",
            "Epoch [3180/10000], Loss: 0.8236\n",
            "Epoch [3200/10000], Loss: 1.3512\n",
            "Epoch [3220/10000], Loss: 0.8143\n",
            "Epoch [3240/10000], Loss: 1.3521\n",
            "Epoch [3260/10000], Loss: 0.8093\n",
            "Epoch [3280/10000], Loss: 1.3174\n",
            "Epoch [3300/10000], Loss: 0.8694\n",
            "Epoch [3320/10000], Loss: 1.2700\n",
            "Epoch [3340/10000], Loss: 1.2810\n",
            "Epoch [3360/10000], Loss: 1.1498\n",
            "Epoch [3380/10000], Loss: 1.0163\n",
            "Epoch [3400/10000], Loss: 0.7434\n",
            "Epoch [3420/10000], Loss: 1.2267\n",
            "Epoch [3440/10000], Loss: 0.8679\n",
            "Epoch [3460/10000], Loss: 0.8267\n",
            "Epoch [3480/10000], Loss: 1.3014\n",
            "Epoch [3500/10000], Loss: 1.2675\n",
            "Epoch [3520/10000], Loss: 1.2207\n",
            "Epoch [3540/10000], Loss: 0.9780\n",
            "Epoch [3560/10000], Loss: 1.2820\n",
            "Epoch [3580/10000], Loss: 1.1952\n",
            "Epoch [3600/10000], Loss: 1.1934\n",
            "Epoch [3620/10000], Loss: 0.6425\n",
            "Epoch [3640/10000], Loss: 1.1905\n",
            "Epoch [3660/10000], Loss: 1.2671\n",
            "Epoch [3680/10000], Loss: 0.9387\n",
            "Epoch [3700/10000], Loss: 0.7455\n",
            "Epoch [3720/10000], Loss: 1.1180\n",
            "Epoch [3740/10000], Loss: 0.8068\n",
            "Epoch [3760/10000], Loss: 1.2346\n",
            "Epoch [3780/10000], Loss: 0.8885\n",
            "Epoch [3800/10000], Loss: 1.5037\n",
            "Epoch [3820/10000], Loss: 1.0249\n",
            "Epoch [3840/10000], Loss: 1.2209\n",
            "Epoch [3860/10000], Loss: 0.9389\n",
            "Epoch [3880/10000], Loss: 0.8643\n",
            "Epoch [3900/10000], Loss: 0.8360\n",
            "Epoch [3920/10000], Loss: 0.7967\n",
            "Epoch [3940/10000], Loss: 0.8232\n",
            "Epoch [3960/10000], Loss: 0.8355\n",
            "Epoch [3980/10000], Loss: 0.8268\n",
            "Epoch [4000/10000], Loss: 0.9161\n",
            "Epoch [4020/10000], Loss: 0.9474\n",
            "Epoch [4040/10000], Loss: 0.9256\n",
            "Epoch [4060/10000], Loss: 0.8772\n",
            "Epoch [4080/10000], Loss: 1.0806\n",
            "Epoch [4100/10000], Loss: 0.8507\n",
            "Epoch [4120/10000], Loss: 0.8825\n",
            "Epoch [4140/10000], Loss: 1.2920\n",
            "Epoch [4160/10000], Loss: 0.8349\n",
            "Epoch [4180/10000], Loss: 1.0708\n",
            "Epoch [4200/10000], Loss: 0.7660\n",
            "Epoch [4220/10000], Loss: 0.8208\n",
            "Epoch [4240/10000], Loss: 0.7792\n",
            "Epoch [4260/10000], Loss: 0.9088\n",
            "Epoch [4280/10000], Loss: 0.8531\n",
            "Epoch [4300/10000], Loss: 1.1895\n",
            "Epoch [4320/10000], Loss: 1.2062\n",
            "Epoch [4340/10000], Loss: 0.9500\n",
            "Epoch [4360/10000], Loss: 1.1821\n",
            "Epoch [4380/10000], Loss: 0.8639\n",
            "Epoch [4400/10000], Loss: 0.9152\n",
            "Epoch [4420/10000], Loss: 0.7925\n",
            "Epoch [4440/10000], Loss: 1.3518\n",
            "Epoch [4460/10000], Loss: 0.9702\n",
            "Epoch [4480/10000], Loss: 0.8270\n",
            "Epoch [4500/10000], Loss: 1.1139\n",
            "Epoch [4520/10000], Loss: 0.7889\n",
            "Epoch [4540/10000], Loss: 0.9191\n",
            "Epoch [4560/10000], Loss: 0.7602\n",
            "Epoch [4580/10000], Loss: 0.9467\n",
            "Epoch [4600/10000], Loss: 1.2414\n",
            "Epoch [4620/10000], Loss: 0.7177\n",
            "Epoch [4640/10000], Loss: 1.1601\n",
            "Epoch [4660/10000], Loss: 0.8567\n",
            "Epoch [4680/10000], Loss: 0.7893\n",
            "Epoch [4700/10000], Loss: 0.7916\n",
            "Epoch [4720/10000], Loss: 0.7824\n",
            "Epoch [4740/10000], Loss: 0.8265\n",
            "Epoch [4760/10000], Loss: 0.9857\n",
            "Epoch [4780/10000], Loss: 0.7402\n",
            "Epoch [4800/10000], Loss: 1.0427\n",
            "Epoch [4820/10000], Loss: 1.1840\n",
            "Epoch [4840/10000], Loss: 1.3887\n",
            "Epoch [4860/10000], Loss: 1.0722\n",
            "Epoch [4880/10000], Loss: 0.8443\n",
            "Epoch [4900/10000], Loss: 1.1446\n",
            "Epoch [4920/10000], Loss: 0.8369\n",
            "Epoch [4940/10000], Loss: 1.1465\n",
            "Epoch [4960/10000], Loss: 1.1297\n",
            "Epoch [4980/10000], Loss: 0.7830\n",
            "Epoch [5000/10000], Loss: 0.8702\n",
            "Epoch [5020/10000], Loss: 1.0163\n",
            "Epoch [5040/10000], Loss: 0.9131\n",
            "Epoch [5060/10000], Loss: 0.8249\n",
            "Epoch [5080/10000], Loss: 0.8309\n",
            "Epoch [5100/10000], Loss: 1.5188\n",
            "Epoch [5120/10000], Loss: 1.2979\n",
            "Epoch [5140/10000], Loss: 1.4920\n",
            "Epoch [5160/10000], Loss: 1.4746\n",
            "Epoch [5180/10000], Loss: 1.3971\n",
            "Epoch [5200/10000], Loss: 0.9920\n",
            "Epoch [5220/10000], Loss: 0.9263\n",
            "Epoch [5240/10000], Loss: 0.8650\n",
            "Epoch [5260/10000], Loss: 0.9733\n",
            "Epoch [5280/10000], Loss: 1.1514\n",
            "Epoch [5300/10000], Loss: 1.3226\n",
            "Epoch [5320/10000], Loss: 0.9154\n",
            "Epoch [5340/10000], Loss: 0.9165\n",
            "Epoch [5360/10000], Loss: 1.0272\n",
            "Epoch [5380/10000], Loss: 1.2886\n",
            "Epoch [5400/10000], Loss: 0.8641\n",
            "Epoch [5420/10000], Loss: 1.3316\n",
            "Epoch [5440/10000], Loss: 0.8336\n",
            "Epoch [5460/10000], Loss: 0.7898\n",
            "Epoch [5480/10000], Loss: 0.8732\n",
            "Epoch [5500/10000], Loss: 0.9330\n",
            "Epoch [5520/10000], Loss: 1.5688\n",
            "Epoch [5540/10000], Loss: 1.3597\n",
            "Epoch [5560/10000], Loss: 0.8990\n",
            "Epoch [5580/10000], Loss: 0.8587\n",
            "Epoch [5600/10000], Loss: 0.8955\n",
            "Epoch [5620/10000], Loss: 0.9379\n",
            "Epoch [5640/10000], Loss: 1.2241\n",
            "Epoch [5660/10000], Loss: 1.3488\n",
            "Epoch [5680/10000], Loss: 0.9124\n",
            "Epoch [5700/10000], Loss: 1.0352\n",
            "Epoch [5720/10000], Loss: 0.7593\n",
            "Epoch [5740/10000], Loss: 0.8518\n",
            "Epoch [5760/10000], Loss: 1.3158\n",
            "Epoch [5780/10000], Loss: 1.4456\n",
            "Epoch [5800/10000], Loss: 1.1875\n",
            "Epoch [5820/10000], Loss: 1.1236\n",
            "Epoch [5840/10000], Loss: 0.8328\n",
            "Epoch [5860/10000], Loss: 1.1054\n",
            "Epoch [5880/10000], Loss: 0.8380\n",
            "Epoch [5900/10000], Loss: 0.9861\n",
            "Epoch [5920/10000], Loss: 1.3543\n",
            "Epoch [5940/10000], Loss: 1.3760\n",
            "Epoch [5960/10000], Loss: 1.0503\n",
            "Epoch [5980/10000], Loss: 1.3149\n",
            "Epoch [6000/10000], Loss: 1.1175\n",
            "Epoch [6020/10000], Loss: 1.0374\n",
            "Epoch [6040/10000], Loss: 1.2254\n",
            "Epoch [6060/10000], Loss: 1.1846\n",
            "Epoch [6080/10000], Loss: 0.9879\n",
            "Epoch [6100/10000], Loss: 1.1686\n",
            "Epoch [6120/10000], Loss: 0.8798\n",
            "Epoch [6140/10000], Loss: 1.2885\n",
            "Epoch [6160/10000], Loss: 0.8362\n",
            "Epoch [6180/10000], Loss: 0.7538\n",
            "Epoch [6200/10000], Loss: 1.5133\n",
            "Epoch [6220/10000], Loss: 1.4765\n",
            "Epoch [6240/10000], Loss: 1.0569\n",
            "Epoch [6260/10000], Loss: 0.8352\n",
            "Epoch [6280/10000], Loss: 1.0207\n",
            "Epoch [6300/10000], Loss: 1.0628\n",
            "Epoch [6320/10000], Loss: 1.1101\n",
            "Epoch [6340/10000], Loss: 0.8449\n",
            "Epoch [6360/10000], Loss: 0.7822\n",
            "Epoch [6380/10000], Loss: 1.1485\n",
            "Epoch [6400/10000], Loss: 1.1421\n",
            "Epoch [6420/10000], Loss: 0.6987\n",
            "Epoch [6440/10000], Loss: 0.7901\n",
            "Epoch [6460/10000], Loss: 0.8367\n",
            "Epoch [6480/10000], Loss: 1.1668\n",
            "Epoch [6500/10000], Loss: 0.8078\n",
            "Epoch [6520/10000], Loss: 1.0623\n",
            "Epoch [6540/10000], Loss: 1.1836\n",
            "Epoch [6560/10000], Loss: 0.9081\n",
            "Epoch [6580/10000], Loss: 1.1432\n",
            "Epoch [6600/10000], Loss: 0.6895\n",
            "Epoch [6620/10000], Loss: 1.3036\n",
            "Epoch [6640/10000], Loss: 0.9085\n",
            "Epoch [6660/10000], Loss: 0.8772\n",
            "Epoch [6680/10000], Loss: 1.0739\n",
            "Epoch [6700/10000], Loss: 1.1047\n",
            "Epoch [6720/10000], Loss: 0.7631\n",
            "Epoch [6740/10000], Loss: 0.6688\n",
            "Epoch [6760/10000], Loss: 0.8469\n",
            "Epoch [6780/10000], Loss: 1.1156\n",
            "Epoch [6800/10000], Loss: 1.1050\n",
            "Epoch [6820/10000], Loss: 1.1012\n",
            "Epoch [6840/10000], Loss: 0.8761\n",
            "Epoch [6860/10000], Loss: 1.4681\n",
            "Epoch [6880/10000], Loss: 1.1909\n",
            "Epoch [6900/10000], Loss: 1.0823\n",
            "Epoch [6920/10000], Loss: 0.8514\n",
            "Epoch [6940/10000], Loss: 0.8641\n",
            "Epoch [6960/10000], Loss: 1.4389\n",
            "Epoch [6980/10000], Loss: 0.8284\n",
            "Epoch [7000/10000], Loss: 0.8386\n",
            "Epoch [7020/10000], Loss: 0.9192\n",
            "Epoch [7040/10000], Loss: 1.3387\n",
            "Epoch [7060/10000], Loss: 0.9025\n",
            "Epoch [7080/10000], Loss: 1.0780\n",
            "Epoch [7100/10000], Loss: 1.3276\n",
            "Epoch [7120/10000], Loss: 0.9051\n",
            "Epoch [7140/10000], Loss: 1.0864\n",
            "Epoch [7160/10000], Loss: 1.2444\n",
            "Epoch [7180/10000], Loss: 0.8861\n",
            "Epoch [7200/10000], Loss: 1.0288\n",
            "Epoch [7220/10000], Loss: 1.1468\n",
            "Epoch [7240/10000], Loss: 0.7833\n",
            "Epoch [7260/10000], Loss: 0.9153\n",
            "Epoch [7280/10000], Loss: 1.1182\n",
            "Epoch [7300/10000], Loss: 1.3479\n",
            "Epoch [7320/10000], Loss: 1.0305\n",
            "Epoch [7340/10000], Loss: 1.0046\n",
            "Epoch [7360/10000], Loss: 0.7580\n",
            "Epoch [7380/10000], Loss: 1.2897\n",
            "Epoch [7400/10000], Loss: 1.3479\n",
            "Epoch [7420/10000], Loss: 1.1646\n",
            "Epoch [7440/10000], Loss: 1.1321\n",
            "Epoch [7460/10000], Loss: 1.0962\n",
            "Epoch [7480/10000], Loss: 1.4112\n",
            "Epoch [7500/10000], Loss: 1.0747\n",
            "Epoch [7520/10000], Loss: 1.1783\n",
            "Epoch [7540/10000], Loss: 0.9142\n",
            "Epoch [7560/10000], Loss: 0.9743\n",
            "Epoch [7580/10000], Loss: 1.3115\n",
            "Epoch [7600/10000], Loss: 1.3973\n",
            "Epoch [7620/10000], Loss: 0.7862\n",
            "Epoch [7640/10000], Loss: 0.8213\n",
            "Epoch [7660/10000], Loss: 0.7909\n",
            "Epoch [7680/10000], Loss: 0.9008\n",
            "Epoch [7700/10000], Loss: 0.9851\n",
            "Epoch [7720/10000], Loss: 1.2370\n",
            "Epoch [7740/10000], Loss: 1.2379\n",
            "Epoch [7760/10000], Loss: 1.1814\n",
            "Epoch [7780/10000], Loss: 0.8905\n",
            "Epoch [7800/10000], Loss: 0.8798\n",
            "Epoch [7820/10000], Loss: 1.3541\n",
            "Epoch [7840/10000], Loss: 1.2791\n",
            "Epoch [7860/10000], Loss: 0.7192\n",
            "Epoch [7880/10000], Loss: 1.2030\n",
            "Epoch [7900/10000], Loss: 1.0777\n",
            "Epoch [7920/10000], Loss: 1.3517\n",
            "Epoch [7940/10000], Loss: 1.2218\n",
            "Epoch [7960/10000], Loss: 1.1868\n",
            "Epoch [7980/10000], Loss: 1.0692\n",
            "Epoch [8000/10000], Loss: 1.3114\n",
            "Epoch [8020/10000], Loss: 1.1605\n",
            "Epoch [8040/10000], Loss: 1.3597\n",
            "Epoch [8060/10000], Loss: 0.8913\n",
            "Epoch [8080/10000], Loss: 1.1765\n",
            "Epoch [8100/10000], Loss: 0.8779\n",
            "Epoch [8120/10000], Loss: 0.8481\n",
            "Epoch [8140/10000], Loss: 0.7058\n",
            "Epoch [8160/10000], Loss: 1.1964\n",
            "Epoch [8180/10000], Loss: 0.9993\n",
            "Epoch [8200/10000], Loss: 0.9769\n",
            "Epoch [8220/10000], Loss: 1.1821\n",
            "Epoch [8240/10000], Loss: 1.1619\n",
            "Epoch [8260/10000], Loss: 1.4075\n",
            "Epoch [8280/10000], Loss: 1.3495\n",
            "Epoch [8300/10000], Loss: 0.8523\n",
            "Epoch [8320/10000], Loss: 1.3414\n",
            "Epoch [8340/10000], Loss: 1.1587\n",
            "Epoch [8360/10000], Loss: 0.9831\n",
            "Epoch [8380/10000], Loss: 1.0404\n",
            "Epoch [8400/10000], Loss: 0.9800\n",
            "Epoch [8420/10000], Loss: 0.9874\n",
            "Epoch [8440/10000], Loss: 0.8135\n",
            "Epoch [8460/10000], Loss: 1.1551\n",
            "Epoch [8480/10000], Loss: 0.8336\n",
            "Epoch [8500/10000], Loss: 0.8980\n",
            "Epoch [8520/10000], Loss: 0.9624\n",
            "Epoch [8540/10000], Loss: 1.0446\n",
            "Epoch [8560/10000], Loss: 0.8584\n",
            "Epoch [8580/10000], Loss: 0.9438\n",
            "Epoch [8600/10000], Loss: 1.0393\n",
            "Epoch [8620/10000], Loss: 1.4533\n",
            "Epoch [8640/10000], Loss: 1.1119\n",
            "Epoch [8660/10000], Loss: 0.9298\n",
            "Epoch [8680/10000], Loss: 1.2966\n",
            "Epoch [8700/10000], Loss: 1.3590\n",
            "Epoch [8720/10000], Loss: 1.1437\n",
            "Epoch [8740/10000], Loss: 0.7369\n",
            "Epoch [8760/10000], Loss: 1.3749\n",
            "Epoch [8780/10000], Loss: 1.0767\n",
            "Epoch [8800/10000], Loss: 0.8836\n",
            "Epoch [8820/10000], Loss: 1.1348\n",
            "Epoch [8840/10000], Loss: 1.4979\n",
            "Epoch [8860/10000], Loss: 1.1594\n",
            "Epoch [8880/10000], Loss: 0.9275\n",
            "Epoch [8900/10000], Loss: 1.1575\n",
            "Epoch [8920/10000], Loss: 1.3486\n",
            "Epoch [8940/10000], Loss: 1.3873\n",
            "Epoch [8960/10000], Loss: 1.2640\n",
            "Epoch [8980/10000], Loss: 1.3986\n",
            "Epoch [9000/10000], Loss: 1.2481\n",
            "Epoch [9020/10000], Loss: 1.2643\n",
            "Epoch [9040/10000], Loss: 1.3574\n",
            "Epoch [9060/10000], Loss: 1.1028\n",
            "Epoch [9080/10000], Loss: 0.8243\n",
            "Epoch [9100/10000], Loss: 0.8455\n",
            "Epoch [9120/10000], Loss: 0.8721\n",
            "Epoch [9140/10000], Loss: 1.1410\n",
            "Epoch [9160/10000], Loss: 1.2234\n",
            "Epoch [9180/10000], Loss: 1.0148\n",
            "Epoch [9200/10000], Loss: 1.3409\n",
            "Epoch [9220/10000], Loss: 0.9059\n",
            "Epoch [9240/10000], Loss: 0.9072\n",
            "Epoch [9260/10000], Loss: 1.0472\n",
            "Epoch [9280/10000], Loss: 1.0900\n",
            "Epoch [9300/10000], Loss: 0.7762\n",
            "Epoch [9320/10000], Loss: 0.8137\n",
            "Epoch [9340/10000], Loss: 0.9757\n",
            "Epoch [9360/10000], Loss: 0.7945\n",
            "Epoch [9380/10000], Loss: 0.8383\n",
            "Epoch [9400/10000], Loss: 1.1644\n",
            "Epoch [9420/10000], Loss: 0.8806\n",
            "Epoch [9440/10000], Loss: 1.0743\n",
            "Epoch [9460/10000], Loss: 1.3254\n",
            "Epoch [9480/10000], Loss: 1.5589\n",
            "Epoch [9500/10000], Loss: 1.1541\n",
            "Epoch [9520/10000], Loss: 0.9200\n",
            "Epoch [9540/10000], Loss: 1.1567\n",
            "Epoch [9560/10000], Loss: 1.4002\n",
            "Epoch [9580/10000], Loss: 0.9677\n",
            "Epoch [9600/10000], Loss: 0.7569\n",
            "Epoch [9620/10000], Loss: 1.1444\n",
            "Epoch [9640/10000], Loss: 1.1129\n",
            "Epoch [9660/10000], Loss: 1.0659\n",
            "Epoch [9680/10000], Loss: 0.8782\n",
            "Epoch [9700/10000], Loss: 1.2998\n",
            "Epoch [9720/10000], Loss: 1.0561\n",
            "Epoch [9740/10000], Loss: 1.1358\n",
            "Epoch [9760/10000], Loss: 0.8027\n",
            "Epoch [9780/10000], Loss: 0.9084\n",
            "Epoch [9800/10000], Loss: 0.8837\n",
            "Epoch [9820/10000], Loss: 1.2357\n",
            "Epoch [9840/10000], Loss: 0.6684\n",
            "Epoch [9860/10000], Loss: 0.8475\n",
            "Epoch [9880/10000], Loss: 1.0547\n",
            "Epoch [9900/10000], Loss: 1.1986\n",
            "Epoch [9920/10000], Loss: 0.8193\n",
            "Epoch [9940/10000], Loss: 1.3294\n",
            "Epoch [9960/10000], Loss: 1.1054\n",
            "Epoch [9980/10000], Loss: 1.2338\n",
            "Epoch [10000/10000], Loss: 1.2391\n"
          ],
          "name": "stdout"
        }
      ]
    },
    {
      "cell_type": "code",
      "metadata": {
        "colab": {
          "base_uri": "https://localhost:8080/"
        },
        "id": "uS0tJtYM2-Ym",
        "outputId": "781ee3ba-7485-48b2-a153-2c10003e14b0"
      },
      "source": [
        "# Generate predictions\n",
        "preds = model(inputs)\n",
        "preds = preds.int()\n",
        "preds"
      ],
      "execution_count": 172,
      "outputs": [
        {
          "output_type": "execute_result",
          "data": {
            "text/plain": [
              "tensor([[ 56,  70],\n",
              "        [ 82, 100],\n",
              "        [118, 132],\n",
              "        [ 20,  37],\n",
              "        [101, 118],\n",
              "        [ 55,  69],\n",
              "        [ 81, 100],\n",
              "        [118, 133],\n",
              "        [ 22,  38],\n",
              "        [102, 119],\n",
              "        [ 56,  70],\n",
              "        [ 80,  99],\n",
              "        [118, 132],\n",
              "        [ 19,  36],\n",
              "        [103, 119]], dtype=torch.int32)"
            ]
          },
          "metadata": {
            "tags": []
          },
          "execution_count": 172
        }
      ]
    },
    {
      "cell_type": "code",
      "metadata": {
        "colab": {
          "base_uri": "https://localhost:8080/"
        },
        "id": "ok6y46gZ3qEl",
        "outputId": "b376538f-d786-4306-ced5-fc9ee77a1caf"
      },
      "source": [
        "targets"
      ],
      "execution_count": 173,
      "outputs": [
        {
          "output_type": "execute_result",
          "data": {
            "text/plain": [
              "tensor([[ 56.,  70.],\n",
              "        [ 81., 101.],\n",
              "        [119., 133.],\n",
              "        [ 22.,  37.],\n",
              "        [103., 119.],\n",
              "        [ 57.,  69.],\n",
              "        [ 80., 102.],\n",
              "        [118., 132.],\n",
              "        [ 21.,  38.],\n",
              "        [104., 118.],\n",
              "        [ 57.,  69.],\n",
              "        [ 82., 100.],\n",
              "        [118., 134.],\n",
              "        [ 20.,  38.],\n",
              "        [102., 120.]])"
            ]
          },
          "metadata": {
            "tags": []
          },
          "execution_count": 173
        }
      ]
    },
    {
      "cell_type": "code",
      "metadata": {
        "id": "pW8Acu013tzV"
      },
      "source": [
        ""
      ],
      "execution_count": null,
      "outputs": []
    }
  ]
}